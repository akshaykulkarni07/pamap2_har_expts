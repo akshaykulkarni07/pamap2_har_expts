{
 "cells": [
  {
   "cell_type": "code",
   "execution_count": 1,
   "metadata": {
    "colab": {},
    "colab_type": "code",
    "id": "W_VfVLlD9n25"
   },
   "outputs": [
    {
     "name": "stderr",
     "output_type": "stream",
     "text": [
      "/opt/conda/envs/py36/lib/python3.6/importlib/_bootstrap.py:219: RuntimeWarning: numpy.dtype size changed, may indicate binary incompatibility. Expected 88 from C header, got 96 from PyObject\n",
      "  return f(*args, **kwds)\n",
      "Using TensorFlow backend.\n"
     ]
    }
   ],
   "source": [
    "%matplotlib inline\n",
    "import keras\n",
    "from keras.models import Sequential\n",
    "from keras.layers import Dense\n",
    "from keras.layers import LSTM\n",
    "from keras.preprocessing.sequence import TimeseriesGenerator\n",
    "import numpy as np\n",
    "import pandas as pd\n",
    "import matplotlib.pyplot as plt"
   ]
  },
  {
   "cell_type": "code",
   "execution_count": 2,
   "metadata": {
    "colab": {
     "base_uri": "https://localhost:8080/",
     "height": 225
    },
    "colab_type": "code",
    "id": "uJu7vuJ8Ab40",
    "outputId": "710449e8-5d11-4257-a9ef-d8ee2b2ebf1a"
   },
   "outputs": [
    {
     "name": "stdout",
     "output_type": "stream",
     "text": [
      "      x_acc     y_acc     z_acc\n",
      "0  0.600076  0.283347  0.649533\n",
      "1  0.602326  0.283343  0.648932\n",
      "2  0.599470  0.283345  0.648904\n",
      "3  0.602812  0.283335  0.647378\n",
      "4  0.602726  0.283329  0.645819\n",
      "   0   1   2   3   4   5   6   7   8   9   10  11\n",
      "0   1   0   0   0   0   0   0   0   0   0   0   0\n",
      "1   1   0   0   0   0   0   0   0   0   0   0   0\n",
      "2   1   0   0   0   0   0   0   0   0   0   0   0\n",
      "3   1   0   0   0   0   0   0   0   0   0   0   0\n",
      "4   1   0   0   0   0   0   0   0   0   0   0   0\n"
     ]
    }
   ],
   "source": [
    "df = pd.read_csv('../data/data_only_keras.csv', names = ['x_acc', 'y_acc', 'z_acc'])\n",
    "label_df = pd.read_csv('../data/labels_only_keras.csv', header = None)\n",
    "print(df.head())\n",
    "print(label_df.head())"
   ]
  },
  {
   "cell_type": "code",
   "execution_count": 3,
   "metadata": {
    "colab": {},
    "colab_type": "code",
    "id": "zqKy1v-_BKjd"
   },
   "outputs": [],
   "source": [
    "traindf = df[ : int(0.7 * len(df))]\n",
    "testdf = df[int(0.85 * len(df)) : ]\n",
    "valdf = df[int(0.7 * len(df)) : int(0.85 * len(df))]\n",
    "trainlabel = label_df[ : int(0.7 * len(df))]\n",
    "testlabel = label_df[int(0.85 * len(df)) : ]\n",
    "vallabel = label_df[int(0.7 * len(df)) : int(0.85 * len(df))]\n",
    "\n",
    "train_gen = TimeseriesGenerator(traindf.values, trainlabel.values, length = 100, batch_size = 16, stride = 100)\n",
    "test_gen = TimeseriesGenerator(testdf.values, testlabel.values, length = 100, batch_size = 1, stride = 100)\n",
    "val_gen = TimeseriesGenerator(valdf.values, vallabel.values, length = 100, batch_size = 1, stride = 100)"
   ]
  },
  {
   "cell_type": "code",
   "execution_count": 6,
   "metadata": {
    "colab": {},
    "colab_type": "code",
    "id": "ax4qBH2TB9Jf"
   },
   "outputs": [],
   "source": [
    "n_input = 100\n",
    "n_features = 3\n",
    "batch_size = 1\n",
    "model = Sequential()\n",
    "model.add(keras.layers.GRU(80, activation = 'relu', input_shape = (n_input, n_features), return_sequences = True))\n",
    "model.add(keras.layers.GRU(60, activation = 'relu', return_sequences = True))\n",
    "model.add(keras.layers.GRU(40, activation = 'relu'))\n",
    "model.add(Dense(12, activation = 'softmax'))\n",
    "adam = keras.optimizers.Adam(lr = 5e-4)\n",
    "model.compile(optimizer = adam, loss = 'categorical_crossentropy', metrics = ['accuracy'])"
   ]
  },
  {
   "cell_type": "code",
   "execution_count": null,
   "metadata": {
    "colab": {
     "base_uri": "https://localhost:8080/",
     "height": 1000
    },
    "colab_type": "code",
    "id": "yFHjDWgqBskv",
    "outputId": "666fb56c-fc4b-4465-8a9d-66b244ba969d"
   },
   "outputs": [],
   "source": [
    "history = model.fit_generator(train_gen, validation_data = val_gen, epochs = 50, verbose = 1)"
   ]
  },
  {
   "cell_type": "code",
   "execution_count": null,
   "metadata": {
    "colab": {},
    "colab_type": "code",
    "id": "-WNg5bv_M924"
   },
   "outputs": [],
   "source": [
    "model.evaluate_generator(test_gen)"
   ]
  },
  {
   "cell_type": "code",
   "execution_count": null,
   "metadata": {
    "colab": {},
    "colab_type": "code",
    "id": "xH8nKUerOj3i"
   },
   "outputs": [],
   "source": [
    "# Plot training & validation accuracy values\n",
    "plt.plot(history.history['acc'])\n",
    "plt.plot(history.history['val_acc'])\n",
    "plt.title('Model accuracy')\n",
    "plt.ylabel('Accuracy')\n",
    "plt.xlabel('Epoch')\n",
    "plt.legend(['Train', 'Val'], loc='upper left')\n",
    "plt.show()\n",
    "\n",
    "# Plot training & validation loss values\n",
    "plt.plot(history.history['loss'])\n",
    "plt.plot(history.history['val_loss'])\n",
    "plt.title('Model loss')\n",
    "plt.ylabel('Loss')\n",
    "plt.xlabel('Epoch')\n",
    "plt.legend(['Train', 'Val'], loc='upper left')\n",
    "plt.show()"
   ]
  },
  {
   "cell_type": "code",
   "execution_count": null,
   "metadata": {
    "colab": {},
    "colab_type": "code",
    "id": "bQAMQhBkOoW6"
   },
   "outputs": [],
   "source": []
  }
 ],
 "metadata": {
  "accelerator": "GPU",
  "colab": {
   "collapsed_sections": [],
   "name": "keras_time_series_classification.ipynb",
   "provenance": [],
   "version": "0.3.2"
  },
  "kernelspec": {
   "display_name": "Python 3",
   "language": "python",
   "name": "python3"
  },
  "language_info": {
   "codemirror_mode": {
    "name": "ipython",
    "version": 3
   },
   "file_extension": ".py",
   "mimetype": "text/x-python",
   "name": "python",
   "nbconvert_exporter": "python",
   "pygments_lexer": "ipython3",
   "version": "3.6.8"
  }
 },
 "nbformat": 4,
 "nbformat_minor": 2
}
