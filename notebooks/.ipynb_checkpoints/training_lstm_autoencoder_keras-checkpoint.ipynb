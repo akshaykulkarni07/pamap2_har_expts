{
 "cells": [
  {
   "cell_type": "code",
   "execution_count": 5,
   "metadata": {
    "colab": {},
    "colab_type": "code",
    "id": "W_VfVLlD9n25"
   },
   "outputs": [],
   "source": [
    "%matplotlib inline\n",
    "import tensorflow as tf\n",
    "from keras import optimizers, Sequential\n",
    "from keras.models import Model\n",
    "from keras.utils import plot_model\n",
    "from keras.layers import Dense, LSTM, RepeatVector, TimeDistributed\n",
    "from keras.callbacks import ModelCheckpoint, TensorBoard\n",
    "import numpy as np\n",
    "import pandas as pd\n",
    "import matplotlib.pyplot as plt"
   ]
  },
  {
   "cell_type": "code",
   "execution_count": 2,
   "metadata": {
    "colab": {
     "base_uri": "https://localhost:8080/",
     "height": 225
    },
    "colab_type": "code",
    "id": "uJu7vuJ8Ab40",
    "outputId": "710449e8-5d11-4257-a9ef-d8ee2b2ebf1a"
   },
   "outputs": [
    {
     "name": "stdout",
     "output_type": "stream",
     "text": [
      "      x_acc     y_acc     z_acc\n",
      "0  0.600076  0.283347  0.649533\n",
      "1  0.602326  0.283343  0.648932\n",
      "2  0.599470  0.283345  0.648904\n",
      "3  0.602812  0.283335  0.647378\n",
      "4  0.602726  0.283329  0.645819\n",
      "   0   1   2   3   4   5   6   7   8   9   10  11\n",
      "0   1   0   0   0   0   0   0   0   0   0   0   0\n",
      "1   1   0   0   0   0   0   0   0   0   0   0   0\n",
      "2   1   0   0   0   0   0   0   0   0   0   0   0\n",
      "3   1   0   0   0   0   0   0   0   0   0   0   0\n",
      "4   1   0   0   0   0   0   0   0   0   0   0   0\n"
     ]
    }
   ],
   "source": [
    "df = pd.read_csv('../data/data_only_keras.csv', names = ['x_acc', 'y_acc', 'z_acc'])\n",
    "label_df = pd.read_csv('../data/labels_only_keras.csv', header = None)\n",
    "print(df.head())\n",
    "print(label_df.head())"
   ]
  },
  {
   "cell_type": "code",
   "execution_count": 44,
   "metadata": {
    "colab": {},
    "colab_type": "code",
    "id": "zqKy1v-_BKjd"
   },
   "outputs": [],
   "source": [
    "traindf = df[ : int(0.7 * len(df))]\n",
    "testdf = df[int(0.85 * len(df)) : ]\n",
    "valdf = df[int(0.7 * len(df)) : int(0.85 * len(df))]\n",
    "trainlabel = label_df[ : int(0.7 * len(df))]\n",
    "testlabel = label_df[int(0.85 * len(df)) : ]\n",
    "vallabel = label_df[int(0.7 * len(df)) : int(0.85 * len(df))]\n",
    "\n",
    "train_gen = TimeseriesGenerator(traindf.values, trainlabel.values, length = 100, batch_size = 16, stride = 100)\n",
    "test_gen = TimeseriesGenerator(testdf.values, testlabel.values, length = 100, batch_size = 1, stride = 100)\n",
    "val_gen = TimeseriesGenerator(valdf.values, vallabel.values, length = 100, batch_size = 1, stride = 100)"
   ]
  },
  {
   "cell_type": "code",
   "execution_count": 78,
   "metadata": {
    "colab": {},
    "colab_type": "code",
    "id": "ax4qBH2TB9Jf"
   },
   "outputs": [
    {
     "name": "stdout",
     "output_type": "stream",
     "text": [
      "_________________________________________________________________\n",
      "Layer (type)                 Output Shape              Param #   \n",
      "=================================================================\n",
      "lstm_41 (LSTM)               (None, 100, 2)            48        \n",
      "_________________________________________________________________\n",
      "lstm_42 (LSTM)               (None, 1)                 16        \n",
      "_________________________________________________________________\n",
      "repeat_vector_13 (RepeatVect (None, 100, 1)            0         \n",
      "_________________________________________________________________\n",
      "lstm_43 (LSTM)               (None, 100, 1)            12        \n",
      "_________________________________________________________________\n",
      "lstm_44 (LSTM)               (None, 100, 2)            32        \n",
      "_________________________________________________________________\n",
      "time_distributed_13 (TimeDis (None, 100, 3)            9         \n",
      "=================================================================\n",
      "Total params: 117\n",
      "Trainable params: 117\n",
      "Non-trainable params: 0\n",
      "_________________________________________________________________\n"
     ]
    }
   ],
   "source": [
    "timesteps = 100\n",
    "n_features = 3\n",
    "model = Sequential()\n",
    "# Encoder\n",
    "model.add(LSTM(2, activation='relu', input_shape=(timesteps, n_features), return_sequences=True))\n",
    "model.add(LSTM(1, activation='relu', return_sequences=False))\n",
    "model.add(RepeatVector(timesteps))\n",
    "# Decoder\n",
    "model.add(LSTM(1, activation='relu', return_sequences=True))\n",
    "model.add(LSTM(2, activation='relu', return_sequences=True))\n",
    "model.add(TimeDistributed(Dense(n_features)))\n",
    "model.compile(optimizer='adam', loss='mse')\n",
    "model.summary()"
   ]
  },
  {
   "cell_type": "code",
   "execution_count": 79,
   "metadata": {
    "colab": {
     "base_uri": "https://localhost:8080/",
     "height": 1000
    },
    "colab_type": "code",
    "id": "yFHjDWgqBskv",
    "outputId": "666fb56c-fc4b-4465-8a9d-66b244ba969d"
   },
   "outputs": [],
   "source": [
    "epochs = 30"
   ]
  },
  {
   "cell_type": "code",
   "execution_count": null,
   "metadata": {},
   "outputs": [],
   "source": [
    "for i in range(epochs) : \n",
    "    for x, y in train_gen : \n",
    "        print('Epoch : ', i)\n",
    "        model.fit(x, x, epochs = 1, steps_per_epoch = 1, verbose = 1)"
   ]
  },
  {
   "cell_type": "code",
   "execution_count": 96,
   "metadata": {
    "colab": {},
    "colab_type": "code",
    "id": "bQAMQhBkOoW6"
   },
   "outputs": [],
   "source": [
    "x, y = test_gen[1]\n",
    "z = model.predict(x)"
   ]
  },
  {
   "cell_type": "code",
   "execution_count": 97,
   "metadata": {},
   "outputs": [
    {
     "data": {
      "text/plain": [
       "<matplotlib.legend.Legend at 0x7f59ebf75ba8>"
      ]
     },
     "execution_count": 97,
     "metadata": {},
     "output_type": "execute_result"
    },
    {
     "data": {
      "image/png": "[encoded data removed]",
      "text/plain": [
       "<Figure size 432x288 with 1 Axes>"
      ]
     },
     "metadata": {
      "needs_background": "light"
     },
     "output_type": "display_data"
    }
   ],
   "source": [
    "# z = np.transpose(z)\n",
    "# x = np.transpose(x)\n",
    "fig, ax = plt.subplots()\n",
    "ax.plot(z[0], 'r', label = 'reconstructed')\n",
    "ax.plot(x[0], 'g', label = 'original')\n",
    "fig.legend()"
   ]
  },
  {
   "cell_type": "code",
   "execution_count": null,
   "metadata": {},
   "outputs": [],
   "source": []
  }
 ],
 "metadata": {
  "accelerator": "GPU",
  "colab": {
   "collapsed_sections": [],
   "name": "keras_time_series_classification.ipynb",
   "provenance": [],
   "version": "0.3.2"
  },
  "kernelspec": {
   "display_name": "Python 3",
   "language": "python",
   "name": "python3"
  },
  "language_info": {
   "codemirror_mode": {
    "name": "ipython",
    "version": 3
   },
   "file_extension": ".py",
   "mimetype": "text/x-python",
   "name": "python",
   "nbconvert_exporter": "python",
   "pygments_lexer": "ipython3",
   "version": "3.6.8"
  }
 },
 "nbformat": 4,
 "nbformat_minor": 2
}
