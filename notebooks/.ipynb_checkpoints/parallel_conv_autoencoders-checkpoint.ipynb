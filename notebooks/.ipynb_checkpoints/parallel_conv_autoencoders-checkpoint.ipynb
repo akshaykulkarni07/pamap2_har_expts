{
 "cells": [
  {
   "cell_type": "markdown",
   "metadata": {},
   "source": [
    "### Trying to create 3 parallel autoencoder networks for 3 axis IMU data"
   ]
  },
  {
   "cell_type": "code",
   "execution_count": 1,
   "metadata": {},
   "outputs": [
    {
     "name": "stdout",
     "output_type": "stream",
     "text": [
      "1.1.0\n"
     ]
    }
   ],
   "source": [
    "%matplotlib inline\n",
    "import pandas as pd\n",
    "import datetime\n",
    "# import pandas_datareader.data as web\n",
    "import matplotlib.pyplot as plt\n",
    "import torch\n",
    "from torch.utils.data import Dataset, DataLoader, SubsetRandomSampler\n",
    "from torch.utils.data.dataloader import default_collate\n",
    "import numpy as np\n",
    "import torch.nn as nn\n",
    "import torch.nn.functional as F\n",
    "from torch.autograd import Variable\n",
    "import torch.optim as optim\n",
    "print(torch.__version__)"
   ]
  },
  {
   "cell_type": "code",
   "execution_count": 3,
   "metadata": {},
   "outputs": [
    {
     "name": "stdout",
     "output_type": "stream",
     "text": [
      "(1548000, 15)\n",
      "(193600, 15)\n"
     ]
    }
   ],
   "source": [
    "reqd_len = 100\n",
    "channels = 3\n",
    "class IMUDataset(Dataset):\n",
    "    def __init__(self, mode = 'test', transform = None):\n",
    "        if mode == 'train' : \n",
    "            self.df = pd.read_csv('../data/train.csv', header = None)\n",
    "        elif mode == 'test' : \n",
    "            self.df = pd.read_csv('../data/test.csv', header = None)\n",
    "        self.transform = transform\n",
    "        print(self.df.shape)\n",
    "        \n",
    "    def __len__(self):\n",
    "        return len(self.df)\n",
    "    \n",
    "    def __getitem__(self, idx):\n",
    "        x = self.df.iloc[idx : idx + reqd_len, : channels].values\n",
    "        x = x.astype('float')\n",
    "        assert(x.shape == (reqd_len, channels))\n",
    "        return x\n",
    "        \n",
    "train_dataset = IMUDataset(mode = 'train')\n",
    "test_dataset = IMUDataset(mode = 'test')"
   ]
  },
  {
   "cell_type": "code",
   "execution_count": 4,
   "metadata": {},
   "outputs": [],
   "source": [
    "batch_size = 128\n",
    "train_indices = [(i * reqd_len) for i in range(len(train_dataset) // reqd_len)]\n",
    "test_indices = [(i * reqd_len) for i in range(len(test_dataset) // reqd_len)]\n",
    "\n",
    "trainloader = DataLoader(train_dataset, batch_size = batch_size, sampler = SubsetRandomSampler(train_indices), drop_last = True)\n",
    "trainloader2 = DataLoader(train_dataset, batch_size = 1, sampler = SubsetRandomSampler(train_indices), drop_last = True)\n",
    "testloader2 = DataLoader(test_dataset, batch_size = 1, sampler = SubsetRandomSampler(test_indices), drop_last = True)"
   ]
  },
  {
   "cell_type": "code",
   "execution_count": 5,
   "metadata": {},
   "outputs": [],
   "source": [
    "# x2, y2, z2 = next(iter(trainloader2))\n",
    "# print(x2.shape)\n",
    "# signal = signal.detach().numpy()\n",
    "# signal = np.transpose(signal).reshape(-1)\n",
    "# t = range(150)\n",
    "# plt.plot(t, signal[150 : 300])"
   ]
  },
  {
   "cell_type": "code",
   "execution_count": 6,
   "metadata": {},
   "outputs": [],
   "source": [
    "# for xavier initialization of network\n",
    "def init_weights(m):\n",
    "    if type(m) == nn.Linear:\n",
    "        torch.nn.init.xavier_uniform_(m.weight)\n",
    "        m.bias.data.fill_(0.01)\n",
    "        \n",
    "class AutoEncoder(nn.Module) :\n",
    "    def __init__(self) : \n",
    "        super(AutoEncoder, self).__init__()\n",
    "        # defining layers\n",
    "        self.encoder = nn.Sequential(\n",
    "            nn.Conv1d(in_channels = 3, out_channels = 2, kernel_size = 5),\n",
    "            nn.Tanh(),\n",
    "            nn.Conv1d(in_channels = 2, out_channels = 1, kernel_size = 5),\n",
    "            nn.Tanh(),\n",
    "            nn.Conv1d(in_channels = 1, out_channels = 1, kernel_size = 5),\n",
    "            nn.Tanh(),\n",
    "            nn.Conv1d(in_channels = 1, out_channels = 1, kernel_size = 5),\n",
    "            nn.Tanh()\n",
    "        )\n",
    "        self.decoder = nn.Sequential(\n",
    "            nn.ConvTranspose1d(in_channels = 1, out_channels = 1, kernel_size = 5),\n",
    "            nn.Tanh(),\n",
    "            nn.ConvTranspose1d(in_channels = 1, out_channels = 1, kernel_size = 5),\n",
    "            nn.Tanh(),\n",
    "            nn.ConvTranspose1d(in_channels = 1, out_channels = 2, kernel_size = 5),\n",
    "            nn.Tanh(),\n",
    "            nn.ConvTranspose1d(in_channels = 2, out_channels = 3, kernel_size = 5),\n",
    "        )\n",
    "        self.classifier = nn.Sequential(\n",
    "            nn.Linear(84, 64),\n",
    "            nn.ReLU(),\n",
    "            nn.Linear(64, 4)\n",
    "        )\n",
    "        \n",
    "    def forward(self, x, encode = False, classify = False) :\n",
    "        x = torch.transpose(x, 1, 2)\n",
    "        features = self.encoder(x)\n",
    "        \n",
    "        if encode and not classify:\n",
    "            return features\n",
    "        elif not encode and classify :\n",
    "            features = features.view(-1, 134)\n",
    "            return self.classifier(features)\n",
    "        else : \n",
    "            return self.decoder(features)"
   ]
  },
  {
   "cell_type": "code",
   "execution_count": 7,
   "metadata": {},
   "outputs": [
    {
     "name": "stdout",
     "output_type": "stream",
     "text": [
      "Model on GPU\n"
     ]
    },
    {
     "data": {
      "text/plain": [
       "IncompatibleKeys(missing_keys=[], unexpected_keys=[])"
      ]
     },
     "execution_count": 7,
     "metadata": {},
     "output_type": "execute_result"
    }
   ],
   "source": [
    "Net = AutoEncoder()\n",
    "Net.apply(init_weights)\n",
    "if torch.cuda.is_available() : \n",
    "    Net = Net.cuda()\n",
    "    print('Model on GPU')\n",
    "    \n",
    "Net.load_state_dict(torch.load('../saved_models/autoencoder2.pt'))"
   ]
  },
  {
   "cell_type": "code",
   "execution_count": 8,
   "metadata": {},
   "outputs": [],
   "source": [
    "import torch.optim as optim\n",
    "criterion = nn.MSELoss()\n",
    "optimizer = optim.Adam(Net.parameters(), lr = 5e-4)\n",
    "scheduler = torch.optim.lr_scheduler.StepLR(optimizer, step_size = 20, gamma = 0.1)"
   ]
  },
  {
   "cell_type": "code",
   "execution_count": null,
   "metadata": {
    "scrolled": true
   },
   "outputs": [],
   "source": [
    "num_epochs = 200\n",
    "total_step = len(train_dataset) // (batch_size * reqd_len)\n",
    "train_loss_list = list()\n",
    "min_loss = 100\n",
    "for epoch in range(num_epochs):\n",
    "    trn = []\n",
    "    Net.train()\n",
    "    for i, (x, y, z) in enumerate(trainloader) :\n",
    "        if torch.cuda.is_available():\n",
    "            x = Variable(x).cuda().float()\n",
    "            y = Variable(y).cuda().float()\n",
    "            z = Variable(z).cuda().float()\n",
    "        else : \n",
    "            x = Variable(x).float()\n",
    "            y = Variable(y).float()\n",
    "            z = Variable(z).float()\n",
    "        \n",
    "        x = x.reshape(-1, 1, 100)\n",
    "        y = y.reshape(-1, 1, 100)\n",
    "        z = z.reshape(-1, 1, 100)\n",
    "        \n",
    "        x_, y_, z_ = Net.forward(x, y, z)\n",
    "        \n",
    "        loss0 = criterion(x_, x)\n",
    "        loss1 = criterion(y_, y)\n",
    "        loss2 = criterion(z_, z)\n",
    "        loss = loss0 + loss1 + loss2\n",
    "        trn.append(loss.item())\n",
    "\n",
    "        optimizer.zero_grad()\n",
    "        loss.backward()\n",
    "        optimizer.step()\n",
    "\n",
    "        if i % 100 == 0 :\n",
    "            print('epoch = ', epoch, ' step = ', i, ' of total steps ', total_step, ' loss = ', loss.item())\n",
    "            \n",
    "    train_loss = (sum(trn) / len(trn))\n",
    "    train_loss_list.append(train_loss)\n",
    "    \n",
    "    if train_loss < min_loss : \n",
    "        min_loss = train_loss\n",
    "        torch.save(Net.state_dict() , '../saved_models/autoencoder.pt')\n",
    "        print('Saving model', min_loss)\n",
    "    \n",
    "    scheduler.step()"
   ]
  },
  {
   "cell_type": "code",
   "execution_count": 21,
   "metadata": {},
   "outputs": [
    {
     "data": {
      "text/plain": [
       "[<matplotlib.lines.Line2D at 0x7fbc8813cf28>]"
      ]
     },
     "execution_count": 21,
     "metadata": {},
     "output_type": "execute_result"
    },
    {
     "data": {
      "image/png": "[encoded data removed]",
      "text/plain": [
       "<Figure size 432x288 with 1 Axes>"
      ]
     },
     "metadata": {
      "needs_background": "light"
     },
     "output_type": "display_data"
    }
   ],
   "source": [
    "j = range(53)\n",
    "plt.plot(j, train_loss_list, 'r')"
   ]
  },
  {
   "cell_type": "markdown",
   "metadata": {},
   "source": [
    "### Verifying that AutoEncoder has not learnt the identity function"
   ]
  },
  {
   "cell_type": "code",
   "execution_count": 11,
   "metadata": {},
   "outputs": [
    {
     "name": "stdout",
     "output_type": "stream",
     "text": [
      "Parameter containing:\n",
      "tensor([[[-0.1033, -0.2026,  0.0014,  0.1955,  0.2268],\n",
      "         [-0.0802,  0.1766, -0.0806, -0.0980,  0.0743],\n",
      "         [ 0.0686,  0.2091,  0.0569,  0.1214, -0.0308]],\n",
      "\n",
      "        [[-0.1614,  0.1851,  0.0192,  0.0108,  0.2811],\n",
      "         [ 0.1730,  0.2893,  0.0396, -0.0099,  0.0524],\n",
      "         [-0.0293, -0.2023, -0.0293, -0.2639, -0.1007]]], requires_grad=True)\n",
      "Parameter containing:\n",
      "tensor([[[ 0.1717, -0.3044, -0.2986, -0.0895,  0.0403],\n",
      "         [-0.0380,  0.2184, -0.1598,  0.2515,  0.1688]]], requires_grad=True)\n",
      "Parameter containing:\n",
      "tensor([[[-0.0332, -0.6918, -0.0554, -0.1719, -0.4610]]], requires_grad=True)\n",
      "Parameter containing:\n",
      "tensor([[[-0.3648,  0.2126, -0.2366, -0.0121, -0.3545]]], requires_grad=True)\n"
     ]
    }
   ],
   "source": [
    "Net = AutoEncoder()\n",
    "Net.load_state_dict(torch.load('../saved_models/autoencoder2.pt'))\n",
    "Net = Net.eval().cpu()\n",
    "print(Net.encoder[0].weight)\n",
    "print(Net.encoder[2].weight)\n",
    "print(Net.decoder[0].weight)\n",
    "print(Net.decoder[2].weight)"
   ]
  },
  {
   "cell_type": "markdown",
   "metadata": {},
   "source": [
    "### Checking reconstruction quality visually"
   ]
  },
  {
   "cell_type": "code",
   "execution_count": 19,
   "metadata": {},
   "outputs": [
    {
     "name": "stdout",
     "output_type": "stream",
     "text": [
      "1st and 2nd axis loss :  0.000228373464778997\n",
      "3rd axis loss :  0.0014632847160100937\n",
      "0.0006400104612112045\n"
     ]
    },
    {
     "data": {
      "text/plain": [
       "[<matplotlib.lines.Line2D at 0x7f28d7b879e8>]"
      ]
     },
     "execution_count": 19,
     "metadata": {},
     "output_type": "execute_result"
    },
    {
     "data": {
      "image/png": "[encoded data removed]",
      "text/plain": [
       "<Figure size 432x288 with 3 Axes>"
      ]
     },
     "metadata": {
      "needs_background": "light"
     },
     "output_type": "display_data"
    }
   ],
   "source": [
    "Net = Net.eval()\n",
    "x = next(iter(testloader2))\n",
    "y = Net.forward(x.float())\n",
    "loss = criterion(torch.transpose(x, 1, 2).float(), y)\n",
    "\n",
    "x1 = torch.transpose(x, 1, 2)[0][ : 2].float()\n",
    "y1 = y[0][ : 2].float()\n",
    "print('1st and 2nd axis loss : ', criterion(y1, x1).item())\n",
    "x2 = torch.transpose(x, 1, 2)[0][2].float()\n",
    "y2 = y[0][2].float()\n",
    "print('3rd axis loss : ', criterion(y2, x2).item())\n",
    "\n",
    "x = torch.transpose(x, 1, 2)\n",
    "x = x.detach().numpy()\n",
    "y = y.detach().numpy()\n",
    "\n",
    "fig, ax = plt.subplots(3, 1)\n",
    "ax[0].plot(x[0][0], 'r')\n",
    "ax[0].plot(y[0][0], 'g')\n",
    "print(loss.item())\n",
    "ax[1].plot(x[0][1], 'r')\n",
    "ax[1].plot(y[0][1], 'g')\n",
    "ax[2].plot(x[0][2], 'r')\n",
    "ax[2].plot(y[0][2], 'g')"
   ]
  },
  {
   "cell_type": "markdown",
   "metadata": {},
   "source": [
    "Reconstruction quality is very much improved compared to using 3 channel autoencoder or using 1 channel data for training autoencoder. Now we can try to train a classifier based on this."
   ]
  },
  {
   "cell_type": "code",
   "execution_count": 103,
   "metadata": {},
   "outputs": [
    {
     "name": "stdout",
     "output_type": "stream",
     "text": [
      "(128100, 8)\n",
      "(15900, 8)\n",
      "(16200, 8)\n"
     ]
    }
   ],
   "source": [
    "reqd_len = 150\n",
    "channels = 3\n",
    "class IMUDataset(Dataset):\n",
    "    def __init__(self, mode = 'test', transform = None):\n",
    "        if mode == 'train' :\n",
    "            self.df = pd.read_csv('../data/train.csv', header = None)\n",
    "        elif mode == 'test' :\n",
    "            self.df = pd.read_csv('../data/test.csv', header = None)\n",
    "        elif mode == 'val' :\n",
    "            self.df = pd.read_csv('../data/val.csv', header = None)\n",
    "        self.transform = transform\n",
    "        print(self.df.shape)\n",
    "        \n",
    "    def __len__(self):\n",
    "        return len(self.df)\n",
    "    \n",
    "    def __getitem__(self, idx):\n",
    "        lab = self.df.iloc[idx : idx + reqd_len, 3 : ].values\n",
    "        ind = np.argmax(np.sum(lab, axis = 0))\n",
    "        label = np.zeros_like(self.df.iloc[0, 3 : ].values)\n",
    "        label = label.astype('float')\n",
    "        label[ind] = 1\n",
    "        x = self.df.iloc[idx : idx + reqd_len, 0].values\n",
    "        y = self.df.iloc[idx : idx + reqd_len, 1].values\n",
    "        z = self.df.iloc[idx : idx + reqd_len, 2].values\n",
    "        x = x.astype('float')\n",
    "        y = y.astype('float')\n",
    "        z = z.astype('float')\n",
    "        assert(x.shape == (reqd_len, ))\n",
    "        assert(y.shape == (reqd_len, ))\n",
    "        assert(z.shape == (reqd_len, ))\n",
    "        assert(label.shape == (5, ))\n",
    "        return x, y, z, label\n",
    "        \n",
    "trainset = IMUDataset(mode = 'train')\n",
    "valset = IMUDataset(mode = 'val')\n",
    "testset = IMUDataset(mode = 'test')"
   ]
  },
  {
   "cell_type": "code",
   "execution_count": 104,
   "metadata": {},
   "outputs": [],
   "source": [
    "train_batch_size = 16\n",
    "batch_size = 16\n",
    "train_indices = [(i * reqd_len) for i in range(len(trainset) // reqd_len)]\n",
    "val_indices = [(i * reqd_len) for i in range(len(valset) // reqd_len)]\n",
    "test_indices = [(i * reqd_len) for i in range(len(testset) // reqd_len)]\n",
    "\n",
    "trainloader = DataLoader(trainset, batch_size = train_batch_size, sampler = SubsetRandomSampler(train_indices), drop_last = True)\n",
    "valloader = DataLoader(valset, batch_size = batch_size, sampler = SubsetRandomSampler(val_indices), drop_last = True)\n",
    "testloader = DataLoader(testset, batch_size = batch_size, sampler = SubsetRandomSampler(test_indices), drop_last = True)"
   ]
  },
  {
   "cell_type": "code",
   "execution_count": 151,
   "metadata": {},
   "outputs": [],
   "source": [
    "# Loading autoencoder saved model\n",
    "Net = AutoEncoder()\n",
    "Net.load_state_dict(torch.load('../saved_models/autoencoder8.pt'), strict = False)\n",
    "# freezing encoders' and decoders' layers\n",
    "Net = Net.cuda()\n",
    "\n",
    "for param in Net.encoder0.parameters() : \n",
    "    param.requires_grad = False\n",
    "for param in Net.encoder1.parameters() : \n",
    "    param.requires_grad = False\n",
    "for param in Net.encoder2.parameters() : \n",
    "    param.requires_grad = False\n",
    "for param in Net.decoder0.parameters() : \n",
    "    param.requires_grad = False\n",
    "for param in Net.decoder1.parameters() : \n",
    "    param.requires_grad = False\n",
    "for param in Net.decoder2.parameters() : \n",
    "    param.requires_grad = False"
   ]
  },
  {
   "cell_type": "code",
   "execution_count": 152,
   "metadata": {},
   "outputs": [],
   "source": [
    "criterion = nn.CrossEntropyLoss()\n",
    "optimizer = optim.Adam(Net.parameters(), lr = 1e-3)\n",
    "scheduler = torch.optim.lr_scheduler.StepLR(optimizer, step_size = 5, gamma = 0.5)"
   ]
  },
  {
   "cell_type": "code",
   "execution_count": 153,
   "metadata": {},
   "outputs": [
    {
     "name": "stdout",
     "output_type": "stream",
     "text": [
      "epoch =  0  step =  0  of total steps  53  loss =  1.562229037284851\n",
      "epoch =  0  step =  20  of total steps  53  loss =  1.513242244720459\n",
      "epoch =  0  step =  40  of total steps  53  loss =  1.5499019622802734\n",
      "epoch :  0  /  100  | TL :  1.5173714678242523  | VL :  1.5593128204345703\n",
      "saving model\n",
      "epoch =  1  step =  0  of total steps  53  loss =  1.3422439098358154\n",
      "epoch =  1  step =  20  of total steps  53  loss =  1.3854888677597046\n",
      "epoch =  1  step =  40  of total steps  53  loss =  1.494871973991394\n",
      "epoch :  1  /  100  | TL :  1.4518622519834987  | VL :  1.5335348844528198\n",
      "saving model\n",
      "epoch =  2  step =  0  of total steps  53  loss =  1.6037654876708984\n",
      "epoch =  2  step =  20  of total steps  53  loss =  1.1801064014434814\n",
      "epoch =  2  step =  40  of total steps  53  loss =  1.366023063659668\n",
      "epoch :  2  /  100  | TL :  1.413777859705799  | VL :  1.5698771476745605\n",
      "epoch =  3  step =  0  of total steps  53  loss =  1.259040355682373\n",
      "epoch =  3  step =  20  of total steps  53  loss =  1.487945318222046\n",
      "epoch =  3  step =  40  of total steps  53  loss =  1.2900238037109375\n",
      "epoch :  3  /  100  | TL :  1.370269404267365  | VL :  1.5408649444580078\n",
      "epoch =  4  step =  0  of total steps  53  loss =  1.2478431463241577\n",
      "epoch =  4  step =  20  of total steps  53  loss =  1.3793869018554688\n",
      "epoch =  4  step =  40  of total steps  53  loss =  1.1863030195236206\n",
      "epoch :  4  /  100  | TL :  1.316331483283133  | VL :  1.511387586593628\n",
      "saving model\n",
      "epoch =  5  step =  0  of total steps  53  loss =  1.3500736951828003\n",
      "epoch =  5  step =  20  of total steps  53  loss =  1.1340303421020508\n",
      "epoch =  5  step =  40  of total steps  53  loss =  1.2383983135223389\n",
      "epoch :  5  /  100  | TL :  1.2670826540803009  | VL :  1.5153861045837402\n",
      "epoch =  6  step =  0  of total steps  53  loss =  1.221041202545166\n",
      "epoch =  6  step =  20  of total steps  53  loss =  1.3132190704345703\n",
      "epoch =  6  step =  40  of total steps  53  loss =  1.2574892044067383\n",
      "epoch :  6  /  100  | TL :  1.1841434240341187  | VL :  1.4989408254623413\n",
      "saving model\n",
      "epoch =  7  step =  0  of total steps  53  loss =  1.2967734336853027\n",
      "epoch =  7  step =  20  of total steps  53  loss =  1.1788333654403687\n",
      "epoch =  7  step =  40  of total steps  53  loss =  1.2186568975448608\n",
      "epoch :  7  /  100  | TL :  1.150581344118658  | VL :  1.5379455089569092\n",
      "epoch =  8  step =  0  of total steps  53  loss =  1.2648060321807861\n",
      "epoch =  8  step =  20  of total steps  53  loss =  1.2220778465270996\n",
      "epoch =  8  step =  40  of total steps  53  loss =  1.050782322883606\n",
      "epoch :  8  /  100  | TL :  1.1104608391815762  | VL :  1.5840065479278564\n",
      "epoch =  9  step =  0  of total steps  53  loss =  1.076072096824646\n",
      "epoch =  9  step =  20  of total steps  53  loss =  0.9514167308807373\n",
      "epoch =  9  step =  40  of total steps  53  loss =  1.442236304283142\n",
      "epoch :  9  /  100  | TL :  1.0786735629135709  | VL :  1.5542402267456055\n",
      "epoch =  10  step =  0  of total steps  53  loss =  1.0107712745666504\n",
      "epoch =  10  step =  20  of total steps  53  loss =  1.3037465810775757\n",
      "epoch =  10  step =  40  of total steps  53  loss =  0.9683879613876343\n",
      "epoch :  10  /  100  | TL :  1.0435499065327194  | VL :  1.6224974393844604\n",
      "epoch =  11  step =  0  of total steps  53  loss =  0.7347859144210815\n",
      "epoch =  11  step =  20  of total steps  53  loss =  0.9843415021896362\n",
      "epoch =  11  step =  40  of total steps  53  loss =  0.9937604665756226\n",
      "epoch :  11  /  100  | TL :  0.9929925776877493  | VL :  1.615848422050476\n",
      "epoch =  12  step =  0  of total steps  53  loss =  0.8509995937347412\n",
      "epoch =  12  step =  20  of total steps  53  loss =  0.8653847575187683\n",
      "epoch =  12  step =  40  of total steps  53  loss =  1.0950602293014526\n",
      "epoch :  12  /  100  | TL :  0.9739822306722965  | VL :  1.6109378337860107\n",
      "epoch =  13  step =  0  of total steps  53  loss =  0.8807519674301147\n",
      "epoch =  13  step =  20  of total steps  53  loss =  0.7268614172935486\n",
      "epoch =  13  step =  40  of total steps  53  loss =  0.9422390460968018\n",
      "epoch :  13  /  100  | TL :  0.9493899097982442  | VL :  1.657314658164978\n",
      "epoch =  14  step =  0  of total steps  53  loss =  0.887531042098999\n",
      "epoch =  14  step =  20  of total steps  53  loss =  0.8043631315231323\n",
      "epoch =  14  step =  40  of total steps  53  loss =  0.6816136837005615\n",
      "epoch :  14  /  100  | TL :  0.9316049094470042  | VL :  1.684807300567627\n",
      "epoch =  15  step =  0  of total steps  53  loss =  0.687832772731781\n",
      "epoch =  15  step =  20  of total steps  53  loss =  1.0563724040985107\n",
      "epoch =  15  step =  40  of total steps  53  loss =  0.8052522540092468\n",
      "epoch :  15  /  100  | TL :  0.9126264531657381  | VL :  1.7195959091186523\n",
      "epoch =  16  step =  0  of total steps  53  loss =  0.7675713300704956\n",
      "epoch =  16  step =  20  of total steps  53  loss =  0.9553518295288086\n",
      "epoch =  16  step =  40  of total steps  53  loss =  0.7994775176048279\n",
      "epoch :  16  /  100  | TL :  0.8909096616619038  | VL :  1.701128363609314\n",
      "epoch =  17  step =  0  of total steps  53  loss =  0.7860453128814697\n",
      "epoch =  17  step =  20  of total steps  53  loss =  0.9005343914031982\n",
      "epoch =  17  step =  40  of total steps  53  loss =  0.7680897116661072\n",
      "epoch :  17  /  100  | TL :  0.8810907186202284  | VL :  1.7717547416687012\n",
      "epoch =  18  step =  0  of total steps  53  loss =  0.6764048933982849\n",
      "epoch =  18  step =  20  of total steps  53  loss =  1.006136417388916\n",
      "epoch =  18  step =  40  of total steps  53  loss =  0.8353979587554932\n",
      "epoch :  18  /  100  | TL :  0.8747890321713574  | VL :  1.6923502683639526\n",
      "epoch =  19  step =  0  of total steps  53  loss =  0.9651677012443542\n",
      "epoch =  19  step =  20  of total steps  53  loss =  0.9929072260856628\n",
      "epoch =  19  step =  40  of total steps  53  loss =  0.984287440776825\n",
      "epoch :  19  /  100  | TL :  0.8662514506645922  | VL :  1.726624846458435\n",
      "epoch =  20  step =  0  of total steps  53  loss =  0.9968878030776978\n",
      "epoch =  20  step =  20  of total steps  53  loss =  0.8252177238464355\n",
      "epoch =  20  step =  40  of total steps  53  loss =  0.8811101913452148\n",
      "epoch :  20  /  100  | TL :  0.8558490141382757  | VL :  1.7628406286239624\n",
      "epoch =  21  step =  0  of total steps  53  loss =  0.6233868598937988\n",
      "epoch =  21  step =  20  of total steps  53  loss =  0.64353346824646\n",
      "epoch =  21  step =  40  of total steps  53  loss =  1.0840718746185303\n",
      "epoch :  21  /  100  | TL :  0.8415520843469871  | VL :  1.7529082298278809\n",
      "epoch =  22  step =  0  of total steps  53  loss =  0.6356413960456848\n",
      "epoch =  22  step =  20  of total steps  53  loss =  0.895359992980957\n",
      "epoch =  22  step =  40  of total steps  53  loss =  0.7180753946304321\n",
      "epoch :  22  /  100  | TL :  0.8394655157934945  | VL :  1.7546334266662598\n",
      "epoch =  23  step =  0  of total steps  53  loss =  0.9389235377311707\n",
      "epoch =  23  step =  20  of total steps  53  loss =  0.7374728918075562\n",
      "epoch =  23  step =  40  of total steps  53  loss =  1.1082079410552979\n",
      "epoch :  23  /  100  | TL :  0.8347673056260595  | VL :  1.7453831434249878\n",
      "epoch =  24  step =  0  of total steps  53  loss =  1.0535895824432373\n",
      "epoch =  24  step =  20  of total steps  53  loss =  0.6985441446304321\n",
      "epoch =  24  step =  40  of total steps  53  loss =  0.9415066242218018\n",
      "epoch :  24  /  100  | TL :  0.8315388031725613  | VL :  1.7435029745101929\n",
      "epoch =  25  step =  0  of total steps  53  loss =  0.8462798595428467\n",
      "epoch =  25  step =  20  of total steps  53  loss =  1.025573492050171\n",
      "epoch =  25  step =  40  of total steps  53  loss =  0.7634202837944031\n",
      "epoch :  25  /  100  | TL :  0.8246249489064487  | VL :  1.763018012046814\n",
      "epoch =  26  step =  0  of total steps  53  loss =  0.7183568477630615\n",
      "epoch =  26  step =  20  of total steps  53  loss =  0.5047370195388794\n",
      "epoch =  26  step =  40  of total steps  53  loss =  0.9142575263977051\n",
      "epoch :  26  /  100  | TL :  0.8203186347799482  | VL :  1.7855660915374756\n",
      "epoch =  27  step =  0  of total steps  53  loss =  0.8111528754234314\n",
      "epoch =  27  step =  20  of total steps  53  loss =  0.8075342178344727\n",
      "epoch =  27  step =  40  of total steps  53  loss =  0.964353084564209\n",
      "epoch :  27  /  100  | TL :  0.8159959979777066  | VL :  1.7260608673095703\n",
      "epoch =  28  step =  0  of total steps  53  loss =  0.7513421773910522\n",
      "epoch =  28  step =  20  of total steps  53  loss =  1.0990824699401855\n",
      "epoch =  28  step =  40  of total steps  53  loss =  0.5885872840881348\n",
      "epoch :  28  /  100  | TL :  0.8142609180144544  | VL :  1.8005836009979248\n",
      "epoch =  29  step =  0  of total steps  53  loss =  0.5945371985435486\n",
      "epoch =  29  step =  20  of total steps  53  loss =  1.1045939922332764\n",
      "epoch =  29  step =  40  of total steps  53  loss =  0.646213173866272\n",
      "epoch :  29  /  100  | TL :  0.8153460408156773  | VL :  1.811180830001831\n",
      "epoch =  30  step =  0  of total steps  53  loss =  0.9805440902709961\n",
      "epoch =  30  step =  20  of total steps  53  loss =  0.6501809358596802\n",
      "epoch =  30  step =  40  of total steps  53  loss =  0.8143617510795593\n",
      "epoch :  30  /  100  | TL :  0.8120384992293592  | VL :  1.8040083646774292\n",
      "epoch =  31  step =  0  of total steps  53  loss =  0.6901085376739502\n",
      "epoch =  31  step =  20  of total steps  53  loss =  0.977990984916687\n",
      "epoch =  31  step =  40  of total steps  53  loss =  0.9079579710960388\n",
      "epoch :  31  /  100  | TL :  0.8077122276684023  | VL :  1.7685718536376953\n",
      "epoch =  32  step =  0  of total steps  53  loss =  0.6683129072189331\n",
      "epoch =  32  step =  20  of total steps  53  loss =  0.793328046798706\n",
      "epoch =  32  step =  40  of total steps  53  loss =  0.8036892414093018\n",
      "epoch :  32  /  100  | TL :  0.8075723175732594  | VL :  1.7818386554718018\n",
      "epoch =  33  step =  0  of total steps  53  loss =  0.6901324987411499\n",
      "epoch =  33  step =  20  of total steps  53  loss =  1.0075846910476685\n",
      "epoch =  33  step =  40  of total steps  53  loss =  0.9511731863021851\n",
      "epoch :  33  /  100  | TL :  0.8050567845128617  | VL :  1.779098391532898\n",
      "epoch =  34  step =  0  of total steps  53  loss =  0.8258265852928162\n",
      "epoch =  34  step =  20  of total steps  53  loss =  0.7666913270950317\n",
      "epoch =  34  step =  40  of total steps  53  loss =  0.8325895071029663\n",
      "epoch :  34  /  100  | TL :  0.8014244954541044  | VL :  1.7697423696517944\n",
      "epoch =  35  step =  0  of total steps  53  loss =  0.7514791488647461\n",
      "epoch =  35  step =  20  of total steps  53  loss =  1.069990873336792\n",
      "epoch =  35  step =  40  of total steps  53  loss =  0.5319775938987732\n",
      "epoch :  35  /  100  | TL :  0.8042230786017652  | VL :  1.7300968170166016\n",
      "epoch =  36  step =  0  of total steps  53  loss =  0.6100068688392639\n",
      "epoch =  36  step =  20  of total steps  53  loss =  0.6339036226272583\n",
      "epoch =  36  step =  40  of total steps  53  loss =  0.910280704498291\n",
      "epoch :  36  /  100  | TL :  0.802824967874671  | VL :  1.7397831678390503\n",
      "epoch =  37  step =  0  of total steps  53  loss =  0.758587121963501\n",
      "epoch =  37  step =  20  of total steps  53  loss =  0.7656814455986023\n",
      "epoch =  37  step =  40  of total steps  53  loss =  0.7660402059555054\n",
      "epoch :  37  /  100  | TL :  0.802935890431674  | VL :  1.7734136581420898\n",
      "epoch =  38  step =  0  of total steps  53  loss =  0.9272106885910034\n",
      "epoch =  38  step =  20  of total steps  53  loss =  0.7463254332542419\n",
      "epoch =  38  step =  40  of total steps  53  loss =  0.6119034290313721\n",
      "epoch :  38  /  100  | TL :  0.7995617738309896  | VL :  1.8020758628845215\n",
      "epoch =  39  step =  0  of total steps  53  loss =  0.8148436546325684\n",
      "epoch =  39  step =  20  of total steps  53  loss =  0.8717604875564575\n",
      "epoch =  39  step =  40  of total steps  53  loss =  0.9154813289642334\n",
      "epoch :  39  /  100  | TL :  0.8015884745795772  | VL :  1.8024762868881226\n",
      "epoch =  40  step =  0  of total steps  53  loss =  0.8305586576461792\n",
      "epoch =  40  step =  20  of total steps  53  loss =  0.8481770753860474\n",
      "epoch =  40  step =  40  of total steps  53  loss =  0.7119758129119873\n",
      "epoch :  40  /  100  | TL :  0.8017646321710551  | VL :  1.7243614196777344\n",
      "epoch =  41  step =  0  of total steps  53  loss =  0.8128489851951599\n",
      "epoch =  41  step =  20  of total steps  53  loss =  0.6978422403335571\n",
      "epoch =  41  step =  40  of total steps  53  loss =  0.7748862504959106\n",
      "epoch :  41  /  100  | TL :  0.7977700683305848  | VL :  1.7810672521591187\n",
      "epoch =  42  step =  0  of total steps  53  loss =  0.7317419052124023\n",
      "epoch =  42  step =  20  of total steps  53  loss =  0.7775920629501343\n",
      "epoch =  42  step =  40  of total steps  53  loss =  0.8531941175460815\n",
      "epoch :  42  /  100  | TL :  0.7972931378292587  | VL :  1.7555698156356812\n",
      "epoch =  43  step =  0  of total steps  53  loss =  0.8072113394737244\n",
      "epoch =  43  step =  20  of total steps  53  loss =  0.7197403907775879\n",
      "epoch =  43  step =  40  of total steps  53  loss =  0.5942442417144775\n",
      "epoch :  43  /  100  | TL :  0.7977736991531444  | VL :  1.7699573040008545\n",
      "epoch =  44  step =  0  of total steps  53  loss =  0.7581990957260132\n",
      "epoch =  44  step =  20  of total steps  53  loss =  0.6690628528594971\n",
      "epoch =  44  step =  40  of total steps  53  loss =  0.8117372393608093\n",
      "epoch :  44  /  100  | TL :  0.7994562544912662  | VL :  1.7958297729492188\n",
      "epoch =  45  step =  0  of total steps  53  loss =  0.7720417380332947\n",
      "epoch =  45  step =  20  of total steps  53  loss =  0.8341797590255737\n",
      "epoch =  45  step =  40  of total steps  53  loss =  0.7485288381576538\n",
      "epoch :  45  /  100  | TL :  0.7967765477468383  | VL :  1.8223674297332764\n",
      "epoch =  46  step =  0  of total steps  53  loss =  0.7382259368896484\n",
      "epoch =  46  step =  20  of total steps  53  loss =  0.8145838975906372\n",
      "epoch =  46  step =  40  of total steps  53  loss =  0.8499991297721863\n",
      "epoch :  46  /  100  | TL :  0.7981160024427018  | VL :  1.7622795104980469\n",
      "epoch =  47  step =  0  of total steps  53  loss =  0.7548343539237976\n",
      "epoch =  47  step =  20  of total steps  53  loss =  1.0482699871063232\n",
      "epoch =  47  step =  40  of total steps  53  loss =  0.8551933169364929\n",
      "epoch :  47  /  100  | TL :  0.7989052927718973  | VL :  1.8069647550582886\n",
      "epoch =  48  step =  0  of total steps  53  loss =  0.8825002908706665\n",
      "epoch =  48  step =  20  of total steps  53  loss =  0.5759002566337585\n",
      "epoch =  48  step =  40  of total steps  53  loss =  1.0762956142425537\n",
      "epoch :  48  /  100  | TL :  0.7980921200986179  | VL :  1.7737606763839722\n",
      "epoch =  49  step =  0  of total steps  53  loss =  1.110192894935608\n",
      "epoch =  49  step =  20  of total steps  53  loss =  0.6098642349243164\n",
      "epoch =  49  step =  40  of total steps  53  loss =  0.9038044810295105\n",
      "epoch :  49  /  100  | TL :  0.7942157719495162  | VL :  1.7382726669311523\n",
      "epoch =  50  step =  0  of total steps  53  loss =  0.8541048765182495\n",
      "epoch =  50  step =  20  of total steps  53  loss =  0.9086490869522095\n",
      "epoch =  50  step =  40  of total steps  53  loss =  0.9373102188110352\n",
      "epoch :  50  /  100  | TL :  0.7975245365556681  | VL :  1.7978438138961792\n",
      "epoch =  51  step =  0  of total steps  53  loss =  0.8349825739860535\n",
      "epoch =  51  step =  20  of total steps  53  loss =  0.5677346587181091\n",
      "epoch =  51  step =  40  of total steps  53  loss =  0.8801726698875427\n",
      "epoch :  51  /  100  | TL :  0.7978353455381574  | VL :  1.791156530380249\n",
      "epoch =  52  step =  0  of total steps  53  loss =  1.1623986959457397\n",
      "epoch =  52  step =  20  of total steps  53  loss =  1.1302520036697388\n",
      "epoch =  52  step =  40  of total steps  53  loss =  0.7208143472671509\n",
      "epoch :  52  /  100  | TL :  0.7966564578830071  | VL :  1.7980670928955078\n",
      "epoch =  53  step =  0  of total steps  53  loss =  1.0058432817459106\n",
      "epoch =  53  step =  20  of total steps  53  loss =  0.7388017177581787\n",
      "epoch =  53  step =  40  of total steps  53  loss =  0.7860461473464966\n",
      "epoch :  53  /  100  | TL :  0.7967504870216802  | VL :  1.7229136228561401\n",
      "epoch =  54  step =  0  of total steps  53  loss =  0.9370032548904419\n",
      "epoch =  54  step =  20  of total steps  53  loss =  0.6637675762176514\n",
      "epoch =  54  step =  40  of total steps  53  loss =  0.6912059187889099\n",
      "epoch :  54  /  100  | TL :  0.7954450193441139  | VL :  1.7438135147094727\n",
      "epoch =  55  step =  0  of total steps  53  loss =  0.7454997897148132\n",
      "epoch =  55  step =  20  of total steps  53  loss =  0.798850953578949\n",
      "epoch =  55  step =  40  of total steps  53  loss =  0.6982417106628418\n",
      "epoch :  55  /  100  | TL :  0.7973697073054764  | VL :  1.736093282699585\n",
      "epoch =  56  step =  0  of total steps  53  loss =  0.6501731276512146\n",
      "epoch =  56  step =  20  of total steps  53  loss =  0.7043356895446777\n",
      "epoch =  56  step =  40  of total steps  53  loss =  0.6334700584411621\n",
      "epoch :  56  /  100  | TL :  0.7957915495026786  | VL :  1.8052949905395508\n",
      "epoch =  57  step =  0  of total steps  53  loss =  0.9865972399711609\n",
      "epoch =  57  step =  20  of total steps  53  loss =  0.7979493141174316\n",
      "epoch =  57  step =  40  of total steps  53  loss =  0.594149112701416\n",
      "epoch :  57  /  100  | TL :  0.7969978631667372  | VL :  1.8121765851974487\n",
      "epoch =  58  step =  0  of total steps  53  loss =  0.9814493060112\n",
      "epoch =  58  step =  20  of total steps  53  loss =  0.9388644099235535\n",
      "epoch =  58  step =  40  of total steps  53  loss =  0.755510687828064\n",
      "epoch :  58  /  100  | TL :  0.7983751207027795  | VL :  1.7667640447616577\n",
      "epoch =  59  step =  0  of total steps  53  loss =  0.7073996067047119\n",
      "epoch =  59  step =  20  of total steps  53  loss =  0.715411901473999\n",
      "epoch =  59  step =  40  of total steps  53  loss =  0.6645751595497131\n",
      "epoch :  59  /  100  | TL :  0.797224482275405  | VL :  1.7587536573410034\n",
      "epoch =  60  step =  0  of total steps  53  loss =  0.6177495121955872\n",
      "epoch =  60  step =  20  of total steps  53  loss =  0.7592133283615112\n",
      "epoch =  60  step =  40  of total steps  53  loss =  0.7674428820610046\n",
      "epoch :  60  /  100  | TL :  0.7961766967233622  | VL :  1.8153331279754639\n",
      "epoch =  61  step =  0  of total steps  53  loss =  0.8664392232894897\n",
      "epoch =  61  step =  20  of total steps  53  loss =  0.8718305826187134\n",
      "epoch =  61  step =  40  of total steps  53  loss =  0.8129444122314453\n",
      "epoch :  61  /  100  | TL :  0.7959997766422775  | VL :  1.769850730895996\n",
      "epoch =  62  step =  0  of total steps  53  loss =  0.7763240337371826\n",
      "epoch =  62  step =  20  of total steps  53  loss =  0.7655969858169556\n",
      "epoch =  62  step =  40  of total steps  53  loss =  0.8084300756454468\n",
      "epoch :  62  /  100  | TL :  0.7948035406616499  | VL :  1.7980120182037354\n",
      "epoch =  63  step =  0  of total steps  53  loss =  0.8868433237075806\n",
      "epoch =  63  step =  20  of total steps  53  loss =  0.793768048286438\n",
      "epoch =  63  step =  40  of total steps  53  loss =  0.7958507537841797\n",
      "epoch :  63  /  100  | TL :  0.7974786117391767  | VL :  1.7849304676055908\n",
      "epoch =  64  step =  0  of total steps  53  loss =  0.6925909519195557\n",
      "epoch =  64  step =  20  of total steps  53  loss =  0.6362528204917908\n",
      "epoch =  64  step =  40  of total steps  53  loss =  0.7270369529724121\n",
      "epoch :  64  /  100  | TL :  0.7965095993482841  | VL :  1.8127171993255615\n",
      "epoch =  65  step =  0  of total steps  53  loss =  0.8032688498497009\n",
      "epoch =  65  step =  20  of total steps  53  loss =  0.6636034250259399\n",
      "epoch =  65  step =  40  of total steps  53  loss =  0.5759706497192383\n",
      "epoch :  65  /  100  | TL :  0.796373796912859  | VL :  1.7552646398544312\n",
      "epoch =  66  step =  0  of total steps  53  loss =  0.8918389678001404\n",
      "epoch =  66  step =  20  of total steps  53  loss =  0.5803279280662537\n",
      "epoch =  66  step =  40  of total steps  53  loss =  0.7247082591056824\n",
      "epoch :  66  /  100  | TL :  0.7968011498451233  | VL :  1.7980469465255737\n",
      "epoch =  67  step =  0  of total steps  53  loss =  0.7744611501693726\n",
      "epoch =  67  step =  20  of total steps  53  loss =  0.8605378866195679\n",
      "epoch =  67  step =  40  of total steps  53  loss =  0.7306076288223267\n",
      "epoch :  67  /  100  | TL :  0.7978946718404878  | VL :  1.7627623081207275\n",
      "epoch =  68  step =  0  of total steps  53  loss =  0.8236185908317566\n",
      "epoch =  68  step =  20  of total steps  53  loss =  0.9398541450500488\n",
      "epoch =  68  step =  40  of total steps  53  loss =  0.7830781936645508\n",
      "epoch :  68  /  100  | TL :  0.7974128070867287  | VL :  1.7807215452194214\n",
      "epoch =  69  step =  0  of total steps  53  loss =  0.6450594067573547\n",
      "epoch =  69  step =  20  of total steps  53  loss =  0.7196307182312012\n",
      "epoch =  69  step =  40  of total steps  53  loss =  0.994590699672699\n",
      "epoch :  69  /  100  | TL :  0.7952192245789294  | VL :  1.7775806188583374\n",
      "epoch =  70  step =  0  of total steps  53  loss =  0.761938750743866\n",
      "epoch =  70  step =  20  of total steps  53  loss =  0.7426208257675171\n",
      "epoch =  70  step =  40  of total steps  53  loss =  0.7547246217727661\n",
      "epoch :  70  /  100  | TL :  0.7942480917246837  | VL :  1.7584885358810425\n",
      "epoch =  71  step =  0  of total steps  53  loss =  0.7769087553024292\n",
      "epoch =  71  step =  20  of total steps  53  loss =  0.8009669780731201\n",
      "epoch =  71  step =  40  of total steps  53  loss =  0.8413451910018921\n",
      "epoch :  71  /  100  | TL :  0.7966298415975751  | VL :  1.8092074394226074\n",
      "epoch =  72  step =  0  of total steps  53  loss =  0.6373572945594788\n",
      "epoch =  72  step =  20  of total steps  53  loss =  0.7690272331237793\n",
      "epoch =  72  step =  40  of total steps  53  loss =  0.7289595007896423\n",
      "epoch :  72  /  100  | TL :  0.7978308110866906  | VL :  1.7881754636764526\n",
      "epoch =  73  step =  0  of total steps  53  loss =  0.9944941401481628\n",
      "epoch =  73  step =  20  of total steps  53  loss =  0.8307440280914307\n",
      "epoch =  73  step =  40  of total steps  53  loss =  0.7428336143493652\n",
      "epoch :  73  /  100  | TL :  0.7975669930566032  | VL :  1.7920472621917725\n",
      "epoch =  74  step =  0  of total steps  53  loss =  0.992548942565918\n",
      "epoch =  74  step =  20  of total steps  53  loss =  0.7934160232543945\n",
      "epoch =  74  step =  40  of total steps  53  loss =  0.6120578050613403\n",
      "epoch :  74  /  100  | TL :  0.7976112354476497  | VL :  1.819291353225708\n",
      "epoch =  75  step =  0  of total steps  53  loss =  0.6368828415870667\n",
      "epoch =  75  step =  20  of total steps  53  loss =  1.2582225799560547\n",
      "epoch =  75  step =  40  of total steps  53  loss =  0.8311650156974792\n",
      "epoch :  75  /  100  | TL :  0.7934195050653422  | VL :  1.791792631149292\n",
      "epoch =  76  step =  0  of total steps  53  loss =  0.860318660736084\n",
      "epoch =  76  step =  20  of total steps  53  loss =  0.8634695410728455\n",
      "epoch =  76  step =  40  of total steps  53  loss =  0.8606570959091187\n",
      "epoch :  76  /  100  | TL :  0.7969550782779478  | VL :  1.810243010520935\n",
      "epoch =  77  step =  0  of total steps  53  loss =  0.953039824962616\n",
      "epoch =  77  step =  20  of total steps  53  loss =  0.7313398122787476\n",
      "epoch =  77  step =  40  of total steps  53  loss =  0.7650140523910522\n",
      "epoch :  77  /  100  | TL :  0.7991455321042042  | VL :  1.813890814781189\n",
      "epoch =  78  step =  0  of total steps  53  loss =  0.9897003173828125\n",
      "epoch =  78  step =  20  of total steps  53  loss =  0.7024483680725098\n",
      "epoch =  78  step =  40  of total steps  53  loss =  0.7339693307876587\n",
      "epoch :  78  /  100  | TL :  0.7964981546941793  | VL :  1.7923588752746582\n",
      "epoch =  79  step =  0  of total steps  53  loss =  0.9366330504417419\n",
      "epoch =  79  step =  20  of total steps  53  loss =  0.8680128455162048\n",
      "epoch =  79  step =  40  of total steps  53  loss =  0.8849881887435913\n",
      "epoch :  79  /  100  | TL :  0.7959048039508316  | VL :  1.8400046825408936\n",
      "epoch =  80  step =  0  of total steps  53  loss =  0.7700220346450806\n",
      "epoch =  80  step =  20  of total steps  53  loss =  0.6223301887512207\n",
      "epoch =  80  step =  40  of total steps  53  loss =  1.0574676990509033\n",
      "epoch :  80  /  100  | TL :  0.792147049364054  | VL :  1.7768447399139404\n",
      "epoch =  81  step =  0  of total steps  53  loss =  0.7202309370040894\n",
      "epoch =  81  step =  20  of total steps  53  loss =  0.9780774116516113\n",
      "epoch =  81  step =  40  of total steps  53  loss =  0.9171454310417175\n",
      "epoch :  81  /  100  | TL :  0.7975243374986468  | VL :  1.8122801780700684\n",
      "epoch =  82  step =  0  of total steps  53  loss =  0.7418448328971863\n",
      "epoch =  82  step =  20  of total steps  53  loss =  0.9371442198753357\n",
      "epoch =  82  step =  40  of total steps  53  loss =  1.106461524963379\n",
      "epoch :  82  /  100  | TL :  0.7981345147456763  | VL :  1.8452229499816895\n",
      "epoch =  83  step =  0  of total steps  53  loss =  0.8132976293563843\n",
      "epoch =  83  step =  20  of total steps  53  loss =  0.7650536298751831\n",
      "epoch =  83  step =  40  of total steps  53  loss =  0.9766781330108643\n",
      "epoch :  83  /  100  | TL :  0.7962124055286623  | VL :  1.7883286476135254\n",
      "epoch =  84  step =  0  of total steps  53  loss =  0.7104970812797546\n",
      "epoch =  84  step =  20  of total steps  53  loss =  0.683497428894043\n",
      "epoch =  84  step =  40  of total steps  53  loss =  0.7594239711761475\n",
      "epoch :  84  /  100  | TL :  0.7955479498179454  | VL :  1.82956862449646\n",
      "epoch =  85  step =  0  of total steps  53  loss =  0.7552062273025513\n",
      "epoch =  85  step =  20  of total steps  53  loss =  0.7304631471633911\n",
      "epoch =  85  step =  40  of total steps  53  loss =  0.8976495265960693\n",
      "epoch :  85  /  100  | TL :  0.7960536198795967  | VL :  1.8506593704223633\n",
      "epoch =  86  step =  0  of total steps  53  loss =  0.9857778549194336\n",
      "epoch =  86  step =  20  of total steps  53  loss =  0.9046306610107422\n",
      "epoch =  86  step =  40  of total steps  53  loss =  0.8048384189605713\n",
      "epoch :  86  /  100  | TL :  0.7943087051499564  | VL :  1.818336844444275\n",
      "epoch =  87  step =  0  of total steps  53  loss =  0.7896771430969238\n",
      "epoch =  87  step =  20  of total steps  53  loss =  0.824786365032196\n",
      "epoch =  87  step =  40  of total steps  53  loss =  0.7689385414123535\n",
      "epoch :  87  /  100  | TL :  0.7965606214865198  | VL :  1.7301782369613647\n",
      "epoch =  88  step =  0  of total steps  53  loss =  0.8579992055892944\n",
      "epoch =  88  step =  20  of total steps  53  loss =  0.6510627269744873\n",
      "epoch =  88  step =  40  of total steps  53  loss =  0.8793150186538696\n",
      "epoch :  88  /  100  | TL :  0.7954654423695691  | VL :  1.8060811758041382\n",
      "epoch =  89  step =  0  of total steps  53  loss =  0.7298603057861328\n",
      "epoch =  89  step =  20  of total steps  53  loss =  0.879705548286438\n",
      "epoch =  89  step =  40  of total steps  53  loss =  0.897498607635498\n",
      "epoch :  89  /  100  | TL :  0.7987159085723589  | VL :  1.7865540981292725\n",
      "epoch =  90  step =  0  of total steps  53  loss =  0.6717349290847778\n",
      "epoch =  90  step =  20  of total steps  53  loss =  0.9647575616836548\n",
      "epoch =  90  step =  40  of total steps  53  loss =  0.6849374771118164\n",
      "epoch :  90  /  100  | TL :  0.7969740415519139  | VL :  1.7961597442626953\n",
      "epoch =  91  step =  0  of total steps  53  loss =  0.9540898203849792\n",
      "epoch =  91  step =  20  of total steps  53  loss =  0.7651801109313965\n",
      "epoch =  91  step =  40  of total steps  53  loss =  0.8129677176475525\n",
      "epoch :  91  /  100  | TL :  0.7972118809538068  | VL :  1.8430488109588623\n",
      "epoch =  92  step =  0  of total steps  53  loss =  0.8074166178703308\n",
      "epoch =  92  step =  20  of total steps  53  loss =  0.8407682180404663\n",
      "epoch =  92  step =  40  of total steps  53  loss =  0.8384578227996826\n",
      "epoch :  92  /  100  | TL :  0.7973111935381619  | VL :  1.787061095237732\n",
      "epoch =  93  step =  0  of total steps  53  loss =  0.8063692450523376\n",
      "epoch =  93  step =  20  of total steps  53  loss =  0.7388864755630493\n",
      "epoch =  93  step =  40  of total steps  53  loss =  0.8429204821586609\n",
      "epoch :  93  /  100  | TL :  0.7946498135350785  | VL :  1.8190929889678955\n",
      "epoch =  94  step =  0  of total steps  53  loss =  0.8963648676872253\n",
      "epoch =  94  step =  20  of total steps  53  loss =  0.7210702300071716\n",
      "epoch =  94  step =  40  of total steps  53  loss =  0.886042058467865\n",
      "epoch :  94  /  100  | TL :  0.7962514848079322  | VL :  1.7541382312774658\n",
      "epoch =  95  step =  0  of total steps  53  loss =  0.6920912265777588\n",
      "epoch =  95  step =  20  of total steps  53  loss =  0.8911935687065125\n",
      "epoch =  95  step =  40  of total steps  53  loss =  0.9107941389083862\n",
      "epoch :  95  /  100  | TL :  0.7972888046840452  | VL :  1.7458853721618652\n",
      "epoch =  96  step =  0  of total steps  53  loss =  0.8989631533622742\n",
      "epoch =  96  step =  20  of total steps  53  loss =  0.7562589645385742\n",
      "epoch =  96  step =  40  of total steps  53  loss =  0.8797721266746521\n",
      "epoch :  96  /  100  | TL :  0.7976295621889942  | VL :  1.7540401220321655\n",
      "epoch =  97  step =  0  of total steps  53  loss =  0.7741486430168152\n",
      "epoch =  97  step =  20  of total steps  53  loss =  0.6058695316314697\n",
      "epoch =  97  step =  40  of total steps  53  loss =  0.6493162512779236\n",
      "epoch :  97  /  100  | TL :  0.7929467851260923  | VL :  1.723667860031128\n",
      "epoch =  98  step =  0  of total steps  53  loss =  0.7262647151947021\n",
      "epoch =  98  step =  20  of total steps  53  loss =  0.6372025012969971\n",
      "epoch =  98  step =  40  of total steps  53  loss =  0.5443316698074341\n",
      "epoch :  98  /  100  | TL :  0.7977914214134216  | VL :  1.8378223180770874\n",
      "epoch =  99  step =  0  of total steps  53  loss =  0.5239824056625366\n",
      "epoch =  99  step =  20  of total steps  53  loss =  0.8234103918075562\n",
      "epoch =  99  step =  40  of total steps  53  loss =  0.6155709028244019\n",
      "epoch :  99  /  100  | TL :  0.795736164416907  | VL :  1.771073818206787\n"
     ]
    }
   ],
   "source": [
    "num_epochs = 100\n",
    "total_step = len(trainset) // (train_batch_size * 150)\n",
    "train_loss_list = list()\n",
    "val_loss_list = list()\n",
    "min_val = 100\n",
    "for epoch in range(num_epochs):\n",
    "    trn = []\n",
    "    Net.train()\n",
    "    for i, (x, y, z, labels) in enumerate(trainloader) :\n",
    "        if torch.cuda.is_available():\n",
    "            x = Variable(x).cuda().float()\n",
    "            y = Variable(y).cuda().float()\n",
    "            z = Variable(z).cuda().float()\n",
    "            labels = Variable(labels).cuda()\n",
    "        else : \n",
    "            x = Variable(x).float()\n",
    "            y = Variable(y).float()\n",
    "            z = Variable(z).float()\n",
    "            labels = Variable(labels)\n",
    "        \n",
    "        _, target = torch.max(labels, 1)\n",
    "        \n",
    "        x = x.reshape(-1, 1, 150)\n",
    "        y = y.reshape(-1, 1, 150)\n",
    "        z = z.reshape(-1, 1, 150)\n",
    "        \n",
    "        x_pred, y_pred, z_pred = Net.forward(x, y, z, classify = True)\n",
    "        \n",
    "#         loss = criterion((x_pred + y_pred + z_pred) / 3, target)\n",
    "        loss0 = criterion(x_pred, target)\n",
    "        loss1 = criterion(y_pred, target)\n",
    "        loss2 = criterion(z_pred, target)      \n",
    "        loss = (loss0 + loss1 + loss2) / 3\n",
    "        trn.append(loss.item())\n",
    "\n",
    "        optimizer.zero_grad()\n",
    "        loss.backward()\n",
    "#         torch.nn.utils.clip_grad_value_(Net.parameters(), 10)\n",
    "        optimizer.step()\n",
    "\n",
    "        if i % 20 == 0 :\n",
    "            print('epoch = ', epoch, ' step = ', i, ' of total steps ', total_step, ' loss = ', loss.item())\n",
    "            \n",
    "    train_loss = (sum(trn) / len(trn))\n",
    "    train_loss_list.append(train_loss)\n",
    "    \n",
    "    Net.eval()\n",
    "    val = []\n",
    "    with torch.no_grad() :\n",
    "        for i, (x, y, z, labels) in enumerate(valloader) :\n",
    "            if torch.cuda.is_available():\n",
    "                x = Variable(x).cuda().float()\n",
    "                y = Variable(y).cuda().float()\n",
    "                z = Variable(z).cuda().float()\n",
    "                labels = Variable(labels).cuda()\n",
    "            else : \n",
    "                x = Variable(x).float()\n",
    "                y = Variable(y).float()\n",
    "                z = Variable(z).float()\n",
    "                labels = Variable(labels)\n",
    "                \n",
    "            _, target = torch.max(labels, 1)\n",
    "            \n",
    "            x = x.reshape(-1, 1, 150)\n",
    "            y = y.reshape(-1, 1, 150)\n",
    "            z = z.reshape(-1, 1, 150)\n",
    "            \n",
    "            # Forward pass\n",
    "            x_pred, y_pred, z_pred = Net.forward(x, y, z, classify = True)\n",
    "              \n",
    "            loss0 = criterion(x_pred, target)\n",
    "            loss1 = criterion(y_pred, target)\n",
    "            loss2 = criterion(z_pred, target)\n",
    "            loss = (loss0 + loss1 + loss2) / 3\n",
    "\n",
    "#             loss = criterion((x_pred + y_pred + z_pred) / 3, target)\n",
    "            val.append(loss)\n",
    "\n",
    "    val_loss = (sum(val) / len(val)).item()\n",
    "    val_loss_list.append(val_loss)\n",
    "    print('epoch : ', epoch, ' / ', num_epochs, ' | TL : ', train_loss, ' | VL : ', val_loss)\n",
    "    \n",
    "    if val_loss < min_val :\n",
    "        print('saving model')\n",
    "        min_val = val_loss\n",
    "        torch.save(Net.state_dict(), '../saved_models/autoencoder_classifier3.pt')\n",
    "    \n",
    "    scheduler.step()"
   ]
  },
  {
   "cell_type": "code",
   "execution_count": 154,
   "metadata": {},
   "outputs": [
    {
     "data": {
      "text/plain": [
       "[<matplotlib.lines.Line2D at 0x7fd0fd57f6a0>,\n",
       " <matplotlib.lines.Line2D at 0x7fd0fd57f7f0>]"
      ]
     },
     "execution_count": 154,
     "metadata": {},
     "output_type": "execute_result"
    },
    {
     "data": {
      "image/png": "[encoded data removed]",
      "text/plain": [
       "<Figure size 432x288 with 1 Axes>"
      ]
     },
     "metadata": {
      "needs_background": "light"
     },
     "output_type": "display_data"
    }
   ],
   "source": [
    "j = np.arange(100)\n",
    "plt.plot(j, train_loss_list, 'r', j, val_loss_list, 'g')"
   ]
  },
  {
   "cell_type": "code",
   "execution_count": 155,
   "metadata": {},
   "outputs": [],
   "source": [
    "def _get_accuracy(dataloader, Net):\n",
    "    total = 0\n",
    "    correct = 0\n",
    "    Net.eval()\n",
    "    for i, (x, y, z, labels) in enumerate(dataloader):\n",
    "        x = Variable(x).float()\n",
    "        y = Variable(y).float()\n",
    "        z = Variable(z).float()\n",
    "        labels = Variable(labels).float()\n",
    "        x = x.reshape(-1, 1, 150)\n",
    "        y = y.reshape(-1, 1, 150)\n",
    "        z = z.reshape(-1, 1, 150)\n",
    "        x_pred, y_pred, z_pred = Net(x, y, z, classify = True)\n",
    "        outputs = (x_pred + y_pred + z_pred) / 3\n",
    "        _, label_ind = torch.max(labels, 1)\n",
    "        _, pred_ind = torch.max(outputs, 1)\n",
    "        \n",
    "        # converting to numpy arrays\n",
    "        label_ind = label_ind.data.numpy()\n",
    "        pred_ind = pred_ind.data.numpy()\n",
    "        \n",
    "        # get difference\n",
    "        diff_ind = label_ind - pred_ind\n",
    "        # correctly classified will be 1 and will get added\n",
    "        # incorrectly classified will be 0\n",
    "        correct += np.count_nonzero(diff_ind == 0)\n",
    "        total += len(diff_ind)\n",
    "\n",
    "    accuracy = correct / total\n",
    "    # print(len(diff_ind))\n",
    "    return accuracy\n",
    "\n",
    "Net = Net.cpu().eval()\n",
    "# _get_accuracy(trainloader)"
   ]
  },
  {
   "cell_type": "code",
   "execution_count": 156,
   "metadata": {},
   "outputs": [
    {
     "name": "stdout",
     "output_type": "stream",
     "text": [
      "0.7983490566037735\n",
      "0.4270833333333333\n",
      "0.375\n"
     ]
    }
   ],
   "source": [
    "print(_get_accuracy(trainloader, Net))\n",
    "print(_get_accuracy(testloader, Net))\n",
    "print(_get_accuracy(valloader, Net))"
   ]
  },
  {
   "cell_type": "code",
   "execution_count": 157,
   "metadata": {},
   "outputs": [
    {
     "name": "stdout",
     "output_type": "stream",
     "text": [
      "0.5860849056603774\n",
      "0.375\n",
      "0.3958333333333333\n"
     ]
    }
   ],
   "source": [
    "# Loading autoencoder saved model\n",
    "Net = AutoEncoder()\n",
    "Net.load_state_dict(torch.load('../saved_models/autoencoder_classifier3.pt'), strict = False)\n",
    "print(_get_accuracy(trainloader, Net))\n",
    "print(_get_accuracy(testloader, Net))\n",
    "print(_get_accuracy(valloader, Net))"
   ]
  },
  {
   "cell_type": "markdown",
   "metadata": {},
   "source": [
    "#### Verifying that encoder and decoder weights remained frozen"
   ]
  },
  {
   "cell_type": "code",
   "execution_count": 43,
   "metadata": {},
   "outputs": [
    {
     "name": "stdout",
     "output_type": "stream",
     "text": [
      "Parameter containing:\n",
      "tensor([[[ 0.2462, -0.3214, -0.1736, -0.7853, -0.6094]]])\n",
      "Parameter containing:\n",
      "tensor([[[ 0.0662, -0.2246, -0.5446, -0.4810,  0.0476]]])\n",
      "Parameter containing:\n",
      "tensor([[[ 0.1591, -0.6918, -0.3941, -0.3774,  0.1053]]])\n",
      "Parameter containing:\n",
      "tensor([[[ 0.0923, -0.2416, -0.0143,  0.0131, -0.5077]]])\n",
      "Parameter containing:\n",
      "tensor([[[-0.0565, -0.3281,  0.3196,  0.4665,  0.3597]]])\n",
      "Parameter containing:\n",
      "tensor([[[-0.1202, -0.0430, -0.6723, -0.3769, -0.3517]]])\n",
      "Parameter containing:\n",
      "tensor([[[-0.0884,  0.0816, -0.5897, -0.3055, -0.2410]]])\n",
      "Parameter containing:\n",
      "tensor([[[-0.1872, -0.1554,  0.3229,  0.4877,  0.3021]]])\n",
      "Parameter containing:\n",
      "tensor([[[-0.1684,  0.3523,  0.0530,  0.5104, -0.1104]]])\n",
      "Parameter containing:\n",
      "tensor([[[ 0.1143, -0.1964, -0.4806, -0.6028, -0.4836]]])\n",
      "Parameter containing:\n",
      "tensor([[[-0.2961,  0.3455, -0.1918,  0.5298,  0.3771]]])\n",
      "Parameter containing:\n",
      "tensor([[[-0.3689, -0.4148, -0.3165, -0.1430, -0.2685]]])\n"
     ]
    }
   ],
   "source": [
    "print(Net.encoder0[0].weight)\n",
    "print(Net.encoder0[2].weight)\n",
    "print(Net.decoder0[0].weight)\n",
    "print(Net.decoder0[2].weight)\n",
    "print(Net.encoder1[0].weight)\n",
    "print(Net.encoder1[2].weight)\n",
    "print(Net.decoder1[0].weight)\n",
    "print(Net.decoder1[2].weight)\n",
    "print(Net.encoder2[0].weight)\n",
    "print(Net.encoder2[2].weight)\n",
    "print(Net.decoder2[0].weight)\n",
    "print(Net.decoder2[2].weight)"
   ]
  },
  {
   "cell_type": "markdown",
   "metadata": {},
   "source": [
    "### Compute the encoded features and save them into a `NumPy` array for using with `sklearn`\n",
    "So, we reload the data used for the autoencoder training part alongwith the labels, and use a similar loop (as in training of autoencoder) to compute the features"
   ]
  },
  {
   "cell_type": "code",
   "execution_count": 2,
   "metadata": {},
   "outputs": [
    {
     "name": "stdout",
     "output_type": "stream",
     "text": [
      "(128100, 8)\n",
      "(16200, 8)\n"
     ]
    }
   ],
   "source": [
    "reqd_len = 150\n",
    "channels = 1\n",
    "class IMUDataset(Dataset):\n",
    "    def __init__(self, mode = 'test', transform = None):\n",
    "        if mode == 'train' : \n",
    "            self.df = pd.read_csv('../data/train.csv', header = None)\n",
    "        elif mode == 'test' : \n",
    "            self.df = pd.read_csv('../data/test.csv', header = None)\n",
    "        self.transform = transform\n",
    "        print(self.df.shape)\n",
    "        \n",
    "    def __len__(self):\n",
    "        return len(self.df)\n",
    "    \n",
    "    def __getitem__(self, idx):\n",
    "        lab = self.df.iloc[idx : idx + reqd_len, 3 : ].values\n",
    "        ind = np.argmax(np.sum(lab, axis = 0))\n",
    "        x = self.df.iloc[idx : idx + reqd_len, 0].values\n",
    "        y = self.df.iloc[idx : idx + reqd_len, 1].values\n",
    "        z = self.df.iloc[idx : idx + reqd_len, 2].values\n",
    "        x = x.astype('float')\n",
    "        y = y.astype('float')\n",
    "        z = z.astype('float')\n",
    "        assert(x.shape == (reqd_len, ))\n",
    "        assert(x.shape == (reqd_len, ))\n",
    "        assert(x.shape == (reqd_len, ))\n",
    "        return x, y, z, ind\n",
    "        \n",
    "train_dataset = IMUDataset(mode = 'train')\n",
    "test_dataset = IMUDataset(mode = 'test')"
   ]
  },
  {
   "cell_type": "code",
   "execution_count": 3,
   "metadata": {},
   "outputs": [],
   "source": [
    "batch_size = 1\n",
    "train_indices = [(i * reqd_len) for i in range(len(train_dataset) // reqd_len)]\n",
    "test_indices = [(i * reqd_len) for i in range(len(test_dataset) // reqd_len)]\n",
    "\n",
    "trainloader = DataLoader(train_dataset, batch_size = batch_size, sampler = SubsetRandomSampler(train_indices), drop_last = True)\n",
    "testloader = DataLoader(test_dataset, batch_size = batch_size, sampler = SubsetRandomSampler(test_indices), drop_last = True)"
   ]
  },
  {
   "cell_type": "code",
   "execution_count": 6,
   "metadata": {},
   "outputs": [],
   "source": [
    "Net = AutoEncoder()\n",
    "Net.load_state_dict(torch.load('../saved_models/autoencoder8.pt'))\n",
    "Net = Net.eval()"
   ]
  },
  {
   "cell_type": "code",
   "execution_count": 7,
   "metadata": {},
   "outputs": [],
   "source": [
    "x_train_features = np.zeros((len(trainloader), 142))\n",
    "y_train_features = np.zeros((len(trainloader), 142))\n",
    "z_train_features = np.zeros((len(trainloader), 142))\n",
    "train_labels = np.zeros(len(trainloader))\n",
    "for i, (x, y, z, label) in enumerate(trainloader) :\n",
    "    x = Variable(x).float()\n",
    "    y = Variable(y).float()\n",
    "    z = Variable(z).float()\n",
    "    label = label.numpy()\n",
    "    \n",
    "    x = x.reshape(-1, 1, 150)\n",
    "    y = y.reshape(-1, 1, 150)\n",
    "    z = z.reshape(-1, 1, 150)\n",
    "\n",
    "    x_, y_, z_ = Net.forward(x, y, z, encode = True)\n",
    "    \n",
    "    x_ = x_.reshape(x_.shape[2]).detach().numpy()\n",
    "    y_ = y_.reshape(y_.shape[2]).detach().numpy()\n",
    "    z_ = z_.reshape(z_.shape[2]).detach().numpy()\n",
    "    \n",
    "    # Saving the features into NumPy arrays\n",
    "    x_train_features[i] = x_\n",
    "    y_train_features[i] = y_\n",
    "    z_train_features[i] = z_\n",
    "    \n",
    "    train_labels[i] = label\n",
    "    \n",
    "x_test_features = np.zeros((len(testloader), 142))\n",
    "y_test_features = np.zeros((len(testloader), 142))\n",
    "z_test_features = np.zeros((len(testloader), 142))\n",
    "test_labels = np.zeros(len(testloader))\n",
    "for i, (x, y, z, label) in enumerate(testloader) :\n",
    "    x = Variable(x).float()\n",
    "    y = Variable(y).float()\n",
    "    z = Variable(z).float()\n",
    "    label = label.numpy()\n",
    "\n",
    "    x = x.reshape(-1, 1, 150)\n",
    "    y = y.reshape(-1, 1, 150)\n",
    "    z = z.reshape(-1, 1, 150)\n",
    "\n",
    "    x_, y_, z_ = Net.forward(x, y, z, encode = True)\n",
    "    \n",
    "    x_ = x_.reshape(x_.shape[2]).detach().numpy()\n",
    "    y_ = y_.reshape(y_.shape[2]).detach().numpy()\n",
    "    z_ = z_.reshape(z_.shape[2]).detach().numpy()\n",
    "    \n",
    "    # Saving the features into NumPy arrays\n",
    "    x_test_features[i] = x_\n",
    "    y_test_features[i] = y_\n",
    "    z_test_features[i] = z_\n",
    "    \n",
    "    test_labels[i] = label"
   ]
  },
  {
   "cell_type": "markdown",
   "metadata": {},
   "source": [
    "#### Now, we have the features and labels as `NumPy` arrays, so we can use `sklearn` to train a traditional ML classifier"
   ]
  },
  {
   "cell_type": "code",
   "execution_count": 8,
   "metadata": {},
   "outputs": [],
   "source": [
    "import sklearn\n",
    "import sklearn.naive_bayes\n",
    "from sklearn.ensemble import RandomForestClassifier\n",
    "from sklearn.svm import SVC\n",
    "from sklearn.metrics import confusion_matrix,classification_report\n",
    "from sklearn.model_selection import cross_val_score, GridSearchCV, train_test_split\n",
    "from sklearn.preprocessing import normalize\n",
    "from collections import Counter\n",
    "from imblearn.over_sampling import SMOTE, SVMSMOTE"
   ]
  },
  {
   "cell_type": "markdown",
   "metadata": {},
   "source": [
    "#### Concatenating all the features"
   ]
  },
  {
   "cell_type": "code",
   "execution_count": 12,
   "metadata": {},
   "outputs": [
    {
     "name": "stdout",
     "output_type": "stream",
     "text": [
      "(854, 426)\n",
      "(108, 426)\n"
     ]
    }
   ],
   "source": [
    "x_train = np.concatenate((x_train_features, y_train_features, z_train_features), axis = 1)\n",
    "x_test = np.concatenate((x_test_features, y_test_features, z_test_features), axis = 1)\n",
    "print(x_train.shape)\n",
    "print(x_test.shape)"
   ]
  },
  {
   "cell_type": "markdown",
   "metadata": {},
   "source": [
    "#### Equalizing classes using SMOTE"
   ]
  },
  {
   "cell_type": "code",
   "execution_count": 13,
   "metadata": {},
   "outputs": [
    {
     "name": "stdout",
     "output_type": "stream",
     "text": [
      "Counter({1.0: 343, 2.0: 343, 3.0: 343, 0.0: 343, 4.0: 343})\n",
      "float64\n",
      "int64\n"
     ]
    }
   ],
   "source": [
    "sm = SMOTE(sampling_strategy = 'not majority')\n",
    "x_train_norm, y_train = sm.fit_resample(x_train, train_labels)\n",
    "print(Counter(y_train))\n",
    "print(y_train.dtype)\n",
    "y_train = y_train.astype(int)\n",
    "print(y_train.dtype)\n",
    "x_test_norm = x_test\n",
    "y_test = test_labels.astype(int)"
   ]
  },
  {
   "cell_type": "code",
   "execution_count": 15,
   "metadata": {},
   "outputs": [
    {
     "name": "stdout",
     "output_type": "stream",
     "text": [
      "[[ 2  0  2  9  2]\n",
      " [ 0  0  1 16  2]\n",
      " [ 1  2 11  5  4]\n",
      " [ 0  1  5 24  3]\n",
      " [ 0  0  2 13  3]]\n",
      "              precision    recall  f1-score   support\n",
      "\n",
      "           0       0.67      0.13      0.22        15\n",
      "           1       0.00      0.00      0.00        19\n",
      "           2       0.52      0.48      0.50        23\n",
      "           3       0.36      0.73      0.48        33\n",
      "           4       0.21      0.17      0.19        18\n",
      "\n",
      "    accuracy                           0.37       108\n",
      "   macro avg       0.35      0.30      0.28       108\n",
      "weighted avg       0.35      0.37      0.32       108\n",
      "\n",
      "[[343   0   0   0   0]\n",
      " [  0 342   0   0   1]\n",
      " [  1   0 339   1   2]\n",
      " [  0   3   2 336   2]\n",
      " [  0   0   1   0 342]]\n",
      "              precision    recall  f1-score   support\n",
      "\n",
      "           0       1.00      1.00      1.00       343\n",
      "           1       0.99      1.00      0.99       343\n",
      "           2       0.99      0.99      0.99       343\n",
      "           3       1.00      0.98      0.99       343\n",
      "           4       0.99      1.00      0.99       343\n",
      "\n",
      "    accuracy                           0.99      1715\n",
      "   macro avg       0.99      0.99      0.99      1715\n",
      "weighted avg       0.99      0.99      0.99      1715\n",
      "\n"
     ]
    }
   ],
   "source": [
    "svm_lin = RandomForestClassifier(n_estimators = 300)\n",
    "svm_lin.fit(x_train_norm, y_train)\n",
    "y_pred = svm_lin.predict(x_test_norm)\n",
    "print(confusion_matrix(y_test, y_pred))\n",
    "print(classification_report(y_test, y_pred))\n",
    "y_pred = svm_lin.predict(x_train_norm)\n",
    "print(confusion_matrix(y_train, y_pred))\n",
    "print(classification_report(y_train, y_pred))"
   ]
  },
  {
   "cell_type": "markdown",
   "metadata": {},
   "source": [
    "Even Random Forest Classifier overfits the features. So, maybe there isn't enough distinction between the various activity classes, so we can try to merge some classes to improve performance."
   ]
  },
  {
   "cell_type": "code",
   "execution_count": null,
   "metadata": {},
   "outputs": [],
   "source": []
  }
 ],
 "metadata": {
  "kernelspec": {
   "display_name": "Python 3",
   "language": "python",
   "name": "python3"
  },
  "language_info": {
   "codemirror_mode": {
    "name": "ipython",
    "version": 3
   },
   "file_extension": ".py",
   "mimetype": "text/x-python",
   "name": "python",
   "nbconvert_exporter": "python",
   "pygments_lexer": "ipython3",
   "version": "3.6.8"
  }
 },
 "nbformat": 4,
 "nbformat_minor": 2
}
